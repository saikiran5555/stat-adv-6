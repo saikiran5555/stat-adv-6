{
 "cells": [
  {
   "cell_type": "markdown",
   "id": "7faf0067",
   "metadata": {},
   "source": [
    "To conduct a two-sample t-test using Python, we'll first need the test scores for the 100 students. In the absence of actual data, I'll create hypothetical data for demonstration purposes. If you have specific data, you can replace the hypothetical data with your actual data.\n",
    "\n",
    "The two-sample t-test will compare the mean scores between the control group and the experimental group. If the test reveals a significant difference, we will know that the new teaching method has a statistically significant impact on test scores.\n",
    "\n",
    "However, for a two-sample t-test, a post-hoc test isn't typically conducted because the test itself directly compares the two groups. Post-hoc tests are more commonly used in scenarios where multiple comparisons are made (like in ANOVA). In this case, if the t-test is significant, it already indicates which group (experimental) differs from the control group.\n",
    "\n",
    "Python Code for Two-Sample T-Test"
   ]
  },
  {
   "cell_type": "code",
   "execution_count": null,
   "id": "8e8cc229",
   "metadata": {},
   "outputs": [],
   "source": [
    "import numpy as np\n",
    "import scipy.stats as stats\n",
    "\n",
    "# Hypothetical data - replace with your actual data\n",
    "np.random.seed(42)  # for reproducible results\n",
    "control_scores = np.random.normal(75, 10, 50)  # mean=75, sd=10, n=50\n",
    "experimental_scores = np.random.normal(80, 10, 50)  # mean=80, sd=10, n=50\n",
    "\n",
    "# Two-sample t-test\n",
    "t_statistic, p_value = stats.ttest_ind(experimental_scores, control_scores)\n",
    "\n",
    "print(f\"T-statistic: {t_statistic}, P-value: {p_value}\")\n",
    "\n",
    "# Interpreting the results\n",
    "alpha = 0.05  # significance level\n",
    "if p_value < alpha:\n",
    "    print(\"There is a significant difference in test scores between the groups.\")\n",
    "else:\n",
    "    print(\"There is no significant difference in test scores between the groups.\")\n"
   ]
  },
  {
   "cell_type": "markdown",
   "id": "96fd2f9d",
   "metadata": {},
   "source": [
    "Interpreting the Results\n",
    "T-statistic: This measures the difference between the two groups in units of standard error. A larger t-statistic indicates a greater difference between the groups.\n",
    "\n",
    "P-value: This indicates the probability of observing the data, or something more extreme, if the null hypothesis (no difference between groups) is true.\n",
    "\n",
    "If the p-value is less than your chosen alpha level (commonly 0.05), it suggests that the difference in test scores between the control and experimental groups is statistically significant.\n",
    "If the p-value is greater than your alpha level, it suggests that there is no significant difference between the two groups."
   ]
  }
 ],
 "metadata": {
  "kernelspec": {
   "display_name": "Python 3 (ipykernel)",
   "language": "python",
   "name": "python3"
  },
  "language_info": {
   "codemirror_mode": {
    "name": "ipython",
    "version": 3
   },
   "file_extension": ".py",
   "mimetype": "text/x-python",
   "name": "python",
   "nbconvert_exporter": "python",
   "pygments_lexer": "ipython3",
   "version": "3.10.9"
  }
 },
 "nbformat": 4,
 "nbformat_minor": 5
}
