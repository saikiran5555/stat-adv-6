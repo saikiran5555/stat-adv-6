{
 "cells": [
  {
   "cell_type": "code",
   "execution_count": null,
   "id": "6c754abe",
   "metadata": {},
   "outputs": [],
   "source": [
    "import pandas as pd\n",
    "import scipy.stats as stats\n",
    "import statsmodels.api as sm\n",
    "from statsmodels.formula.api import ols\n",
    "\n",
    "# Hypothetical data\n",
    "# Replace this with your actual data\n",
    "data = {\n",
    "    'Diet': ['A']*10 + ['B']*20 + ['C']*20,\n",
    "    'WeightLoss': [2, 3, 2.5, 2.8, 3.1, 2.4, 2.9, 3, 2.7, 2.6] + \n",
    "                  [2.5, 3.5, 3, 2.9, 3.2, 3.1, 3.3, 3.6, 3.7, 3.8, 2.7, 3.4, 3.2, 3.1, 2.8, 2.9, 3, 2.8, 2.9, 2.7] +\n",
    "                  [4, 4.5, 4.2, 4.1, 4.3, 4.4, 4.6, 4.7, 4.8, 4.9, 4.1, 4.2, 4.3, 4.4, 4.5, 4.6, 4.7, 4.8, 4.9, 5]\n",
    "}\n",
    "\n",
    "df = pd.DataFrame(data)\n",
    "\n",
    "# Perform the one-way ANOVA\n",
    "model = ols('WeightLoss ~ C(Diet)', data=df).fit()\n",
    "anova_result = sm.stats.anova_lm(model, typ=2)\n",
    "\n",
    "print(anova_result)\n"
   ]
  },
  {
   "cell_type": "markdown",
   "id": "cc8e6d1e",
   "metadata": {},
   "source": [
    "Interpreting the Results\n",
    "The output will show the F-statistic and the p-value. Here's how to interpret these:\n",
    "\n",
    "F-statistic: This is a measure of the ratio of variance between the groups to the variance within the groups. A higher value typically indicates a significant difference.\n",
    "\n",
    "p-value: This indicates the probability of observing the data, or something more extreme, under the null hypothesis.\n",
    "\n",
    "If the p-value is less than your alpha level (commonly 0.05), you reject the null hypothesis and conclude that there are significant differences between the mean weight loss of the three diets.\n",
    "If the p-value is greater than your alpha level, you fail to reject the null hypothesis, indicating that you do not have sufficient evidence to say that there is a difference between the diets."
   ]
  }
 ],
 "metadata": {
  "kernelspec": {
   "display_name": "Python 3 (ipykernel)",
   "language": "python",
   "name": "python3"
  },
  "language_info": {
   "codemirror_mode": {
    "name": "ipython",
    "version": 3
   },
   "file_extension": ".py",
   "mimetype": "text/x-python",
   "name": "python",
   "nbconvert_exporter": "python",
   "pygments_lexer": "ipython3",
   "version": "3.10.9"
  }
 },
 "nbformat": 4,
 "nbformat_minor": 5
}
