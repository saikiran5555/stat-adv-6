{
 "cells": [
  {
   "cell_type": "code",
   "execution_count": null,
   "id": "8ff4620f",
   "metadata": {},
   "outputs": [],
   "source": [
    "import pandas as pd\n",
    "import numpy as np\n",
    "from statsmodels.stats.anova import AnovaRM\n",
    "from scipy.stats import ttest_rel\n",
    "\n",
    "# Create a hypothetical dataset\n",
    "np.random.seed(123)  # For reproducibility\n",
    "data = {\n",
    "    'Day': np.tile(np.arange(1, 31), 3),  # 30 days\n",
    "    'Sales': np.concatenate([np.random.normal(200, 20, 30),  # Store A\n",
    "                             np.random.normal(220, 20, 30),  # Store B\n",
    "                             np.random.normal(210, 20, 30)]), # Store C\n",
    "    'Store': np.repeat(['A', 'B', 'C'], 30)  # Stores A, B, C\n",
    "}\n",
    "df = pd.DataFrame(data)\n",
    "\n",
    "# Convert data to wide format for repeated measures ANOVA\n",
    "df_wide = df.pivot(index='Day', columns='Store', values='Sales')\n",
    "\n",
    "# Conduct Repeated Measures ANOVA\n",
    "model = AnovaRM(df_wide, 'A', subject='Day', within=['B', 'C'])\n",
    "results = model.fit()\n",
    "print(results)\n",
    "\n",
    "# If significant, conduct post-hoc tests\n",
    "if results.f_pvalue < 0.05:\n",
    "    # Pairwise t-tests with Bonferroni correction\n",
    "    print(\"Post-hoc tests:\")\n",
    "    comparisons = [('A', 'B'), ('A', 'C'), ('B', 'C')]\n",
    "    for i, j in comparisons:\n",
    "        t_stat, p_val = ttest_rel(df_wide[i], df_wide[j])\n",
    "        p_val_adjusted = p_val * len(comparisons)  # Bonferroni correction\n",
    "        print(f\"Comparison {i} vs {j}: p-value = {p_val_adjusted}\")\n"
   ]
  },
  {
   "cell_type": "markdown",
   "id": "d685bd54",
   "metadata": {},
   "source": [
    "In this example:\n",
    "\n",
    "We first create a dataset with sales figures for 30 days for each store.\n",
    "We conduct a repeated measures ANOVA to test if there's a significant difference in average daily sales between the stores.\n",
    "If the ANOVA result is significant, we then perform pairwise t-tests between the stores, adjusting for multiple comparisons using the Bonferroni method."
   ]
  }
 ],
 "metadata": {
  "kernelspec": {
   "display_name": "Python 3 (ipykernel)",
   "language": "python",
   "name": "python3"
  },
  "language_info": {
   "codemirror_mode": {
    "name": "ipython",
    "version": 3
   },
   "file_extension": ".py",
   "mimetype": "text/x-python",
   "name": "python",
   "nbconvert_exporter": "python",
   "pygments_lexer": "ipython3",
   "version": "3.10.9"
  }
 },
 "nbformat": 4,
 "nbformat_minor": 5
}
