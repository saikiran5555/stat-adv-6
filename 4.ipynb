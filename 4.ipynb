{
 "cells": [
  {
   "cell_type": "markdown",
   "id": "60dd8ca6",
   "metadata": {},
   "source": [
    "In a one-way ANOVA (Analysis of Variance), the total sum of squares (SST), explained sum of squares (SSE), and residual sum of squares (SSR) are key components of the analysis. These sums of squares are used to determine how much of the total variation in the data is explained by the grouping (i.e., the independent variable) and how much is due to random variation.\n",
    "\n",
    "Here's a brief explanation of each:\n",
    "\n",
    "Total Sum of Squares (SST): Measures the total variation in the dependent variable. It's the sum of the squared differences between each observation and the overall mean.\n",
    "Explained Sum of Squares (SSE): Represents the variation explained by the independent variable (the groups). It's the sum of the squared differences between each group mean and the overall mean.\n",
    "Residual Sum of Squares (SSR): Measures the unexplained variation, which is the difference between the total variation and the explained variation. It's the sum of the squared differences between each observation and its respective group mean.\n",
    "To calculate these using Python, you need data on your groups. Here's a hypothetical example using the numpy and scipy libraries. Ensure you have these libraries installed:"
   ]
  },
  {
   "cell_type": "code",
   "execution_count": null,
   "id": "ca02e601",
   "metadata": {},
   "outputs": [],
   "source": [
    "import numpy as np\n",
    "from scipy import stats\n",
    "\n",
    "# Example data for three groups\n",
    "group_A = np.array([15, 16, 15, 14, 14])\n",
    "group_B = np.array([12, 11, 13, 14, 13])\n",
    "group_C = np.array([10, 11, 12, 9, 8])\n",
    "\n",
    "# Combine all groups into a single data array\n",
    "all_data = np.concatenate([group_A, group_B, group_C])\n",
    "\n",
    "# Overall mean\n",
    "overall_mean = np.mean(all_data)\n",
    "\n",
    "# Calculate SST (Total Sum of Squares)\n",
    "sst = np.sum((all_data - overall_mean)**2)\n",
    "\n",
    "# Calculate SSE (Explained Sum of Squares)\n",
    "group_means = [np.mean(group) for group in [group_A, group_B, group_C]]\n",
    "sse = sum([len(group) * (group_mean - overall_mean)**2 for group, group_mean in zip([group_A, group_B, group_C], group_means)])\n",
    "\n",
    "# Calculate SSR (Residual Sum of Squares)\n",
    "ssr = sst - sse\n",
    "\n",
    "print(\"Total Sum of Squares (SST):\", sst)\n",
    "print(\"Explained Sum of Squares (SSE):\", sse)\n",
    "print(\"Residual Sum of Squares (SSR):\", ssr)\n"
   ]
  },
  {
   "cell_type": "markdown",
   "id": "3ab4a986",
   "metadata": {},
   "source": [
    "This example calculates SST, SSE, and SSR for three groups with provided data. Adjust the group_A, group_B, and group_C arrays to reflect your actual data. The calculations are based on the definitions of SST, SSE, and SSR. The numpy library handles the array computations, while the scipy library isn't actually used in this particular code snippet but is often used for performing the ANOVA test itself."
   ]
  },
  {
   "cell_type": "code",
   "execution_count": null,
   "id": "044ed3d2",
   "metadata": {},
   "outputs": [],
   "source": []
  },
  {
   "cell_type": "code",
   "execution_count": null,
   "id": "d2f610b8",
   "metadata": {},
   "outputs": [],
   "source": []
  },
  {
   "cell_type": "code",
   "execution_count": null,
   "id": "89c64a6a",
   "metadata": {},
   "outputs": [],
   "source": []
  },
  {
   "cell_type": "code",
   "execution_count": null,
   "id": "3926e3a1",
   "metadata": {},
   "outputs": [],
   "source": []
  },
  {
   "cell_type": "code",
   "execution_count": null,
   "id": "9d44c6c7",
   "metadata": {},
   "outputs": [],
   "source": []
  }
 ],
 "metadata": {
  "kernelspec": {
   "display_name": "Python 3 (ipykernel)",
   "language": "python",
   "name": "python3"
  },
  "language_info": {
   "codemirror_mode": {
    "name": "ipython",
    "version": 3
   },
   "file_extension": ".py",
   "mimetype": "text/x-python",
   "name": "python",
   "nbconvert_exporter": "python",
   "pygments_lexer": "ipython3",
   "version": "3.10.9"
  }
 },
 "nbformat": 4,
 "nbformat_minor": 5
}
