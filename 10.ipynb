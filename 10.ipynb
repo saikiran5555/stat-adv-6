{
 "cells": [
  {
   "cell_type": "code",
   "execution_count": null,
   "id": "b4fd3f1d",
   "metadata": {},
   "outputs": [],
   "source": [
    "import pandas as pd\n",
    "import numpy as np\n",
    "import statsmodels.api as sm\n",
    "from statsmodels.formula.api import ols\n",
    "\n",
    "# Example data creation\n",
    "np.random.seed(123) # for reproducibility\n",
    "df = pd.DataFrame({\n",
    "    'Program': np.repeat(['A', 'B', 'C'], 20), # 20 observations for each program\n",
    "    'Experience': np.tile(np.repeat(['Novice', 'Experienced'], 10), 3), # 10 of each experience level per program\n",
    "    'Time': np.random.normal(60, 10, 60) # hypothetical times with some random variation\n",
    "})\n",
    "\n",
    "# Two-way ANOVA\n",
    "model = ols('Time ~ C(Program) + C(Experience) + C(Program):C(Experience)', data=df).fit()\n",
    "anova_table = sm.stats.anova_lm(model, typ=2)\n",
    "\n",
    "print(anova_table)\n"
   ]
  },
  {
   "cell_type": "markdown",
   "id": "342528da",
   "metadata": {},
   "source": [
    "Interpreting the Results:\n",
    "\n",
    "Main Effects:\n",
    "\n",
    "Look at the p-values for C(Program) and C(Experience). If these are less than your significance level (commonly 0.05), it suggests that there are significant differences in task completion times between the different programs or between different experience levels.\n",
    "Interaction Effect:\n",
    "\n",
    "The p-value for C(Program):C(Experience) indicates whether the effect of the software program on completion time depends on the experience level of the employee. A significant interaction (p-value < 0.05) would suggest that the effectiveness of the software programs varies depending on whether the employee is a novice or experienced."
   ]
  }
 ],
 "metadata": {
  "kernelspec": {
   "display_name": "Python 3 (ipykernel)",
   "language": "python",
   "name": "python3"
  },
  "language_info": {
   "codemirror_mode": {
    "name": "ipython",
    "version": 3
   },
   "file_extension": ".py",
   "mimetype": "text/x-python",
   "name": "python",
   "nbconvert_exporter": "python",
   "pygments_lexer": "ipython3",
   "version": "3.10.9"
  }
 },
 "nbformat": 4,
 "nbformat_minor": 5
}
