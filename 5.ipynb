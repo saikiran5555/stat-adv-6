{
 "cells": [
  {
   "cell_type": "markdown",
   "id": "6c3276b1",
   "metadata": {},
   "source": [
    "In a two-way ANOVA, the main effects and interaction effects can be calculated using Python with libraries such as statsmodels. The two-way ANOVA is used to understand if there is an interaction between the two independent variables on a dependent variable. It considers two factors (independent variables) and their interaction.\n",
    "\n",
    "Steps to Calculate Main and Interaction Effects in Two-Way ANOVA:\n",
    "Prepare Data: Ensure your data is in the correct format. Usually, you'll have a DataFrame with one column for each of the two factors and one column for the dependent variable.\n",
    "\n",
    "Set Up the Model: Using statsmodels, you can set up an Ordinary Least Squares (OLS) model to include both factors and their interaction.\n",
    "\n",
    "Fit the Model: Fit the model to your data.\n",
    "\n",
    "Perform ANOVA: Use the anova_lm function from statsmodels to perform the two-way ANOVA.\n",
    "\n",
    "Interpret Results: The output will show you the F-statistic and p-value for each main effect and the interaction effect, allowing you to determine if the effects are statistically significant.\n",
    "\n",
    "Example in Python:\n",
    "Here's an example using hypothetical data:"
   ]
  },
  {
   "cell_type": "code",
   "execution_count": null,
   "id": "296d606f",
   "metadata": {},
   "outputs": [],
   "source": [
    "import pandas as pd\n",
    "import statsmodels.api as sm\n",
    "from statsmodels.formula.api import ols\n",
    "\n",
    "# Example DataFrame\n",
    "data = pd.DataFrame({\n",
    "    'Factor1': ['A', 'A', 'A', 'B', 'B', 'B', 'C', 'C', 'C'],\n",
    "    'Factor2': ['X', 'Y', 'Z', 'X', 'Y', 'Z', 'X', 'Y', 'Z'],\n",
    "    'DependentVar': [20, 22, 19, 24, 23, 21, 18, 17, 20]\n",
    "})\n",
    "\n",
    "# Set up the model\n",
    "model = ols('DependentVar ~ C(Factor1) + C(Factor2) + C(Factor1):C(Factor2)', data=data).fit()\n",
    "\n",
    "# Perform two-way ANOVA\n",
    "anova_results = sm.stats.anova_lm(model, typ=2)\n",
    "\n",
    "print(anova_results)\n"
   ]
  },
  {
   "cell_type": "markdown",
   "id": "7922dbbd",
   "metadata": {},
   "source": [
    "In this script:\n",
    "\n",
    "C(Factor1) and C(Factor2) represent the main effects.\n",
    "C(Factor1):C(Factor2) represents the interaction effect between the two factors.\n",
    "typ=2 in anova_lm provides the ANOVA table for Type II sums of squares which is generally preferred for unbalanced designs.\n",
    "Interpreting the Results:\n",
    "The F-statistic and corresponding p-value for each factor and the interaction term in the ANOVA table will tell you whether each main effect and the interaction effect are statistically significant.\n",
    "A significant main effect suggests a factor has a consistent effect on the dependent variable, regardless of the levels of the other factor.\n",
    "A significant interaction effect suggests that the effect of one factor depends on the level of the other factor."
   ]
  }
 ],
 "metadata": {
  "kernelspec": {
   "display_name": "Python 3 (ipykernel)",
   "language": "python",
   "name": "python3"
  },
  "language_info": {
   "codemirror_mode": {
    "name": "ipython",
    "version": 3
   },
   "file_extension": ".py",
   "mimetype": "text/x-python",
   "name": "python",
   "nbconvert_exporter": "python",
   "pygments_lexer": "ipython3",
   "version": "3.10.9"
  }
 },
 "nbformat": 4,
 "nbformat_minor": 5
}
